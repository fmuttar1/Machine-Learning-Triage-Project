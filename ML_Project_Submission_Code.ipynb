{
  "nbformat": 4,
  "nbformat_minor": 0,
  "metadata": {
    "colab": {
      "name": "ML_Project_Submission_Code.ipynb",
      "provenance": [],
      "collapsed_sections": []
    },
    "kernelspec": {
      "name": "python3",
      "display_name": "Python 3"
    },
    "language_info": {
      "name": "python"
    }
  },
  "cells": [
    {
      "cell_type": "code",
      "metadata": {
        "id": "8UjeWyCDcNcq"
      },
      "source": [
        "import pandas as pd\n",
        "import collections\n",
        "import numpy as np\n",
        "from sklearn import set_config\n",
        "from sklearn.model_selection import train_test_split\n",
        "from sklearn.pipeline import Pipeline\n",
        "from sklearn.pipeline import Pipeline\n",
        "from sklearn.feature_extraction.text import CountVectorizer\n",
        "from sklearn.compose import ColumnTransformer\n",
        "from sklearn.linear_model import LogisticRegression\n",
        "from sklearn.preprocessing import FunctionTransformer\n",
        "from sklearn.preprocessing import StandardScaler\n",
        "from sklearn.impute import SimpleImputer\n",
        "from sklearn.preprocessing import OneHotEncoder\n",
        "from sklearn.model_selection import GridSearchCV\n",
        "from sklearn.metrics import accuracy_score\n",
        "from sklearn.model_selection import cross_val_score\n",
        "from sklearn.metrics import accuracy_score, f1_score\n",
        "from sklearn.ensemble import RandomForestClassifier\n",
        "from sklearn.feature_extraction.text import TfidfVectorizer\n",
        "from sklearn.decomposition import TruncatedSVD"
      ],
      "execution_count": null,
      "outputs": []
    },
    {
      "cell_type": "code",
      "metadata": {
        "colab": {
          "base_uri": "https://localhost:8080/"
        },
        "id": "Oy1E53-afLNX",
        "outputId": "e62e2d3b-c869-44d4-c679-b0cd9b5b42ea"
      },
      "source": [
        "# downloading the dataset\n",
        "\n",
        "import gdown\n",
        "url = 'https://drive.google.com/uc?id=1JQ_gVoF1z57Zo2U_mDBTsOUKsWc95G2w'\n",
        "data_tsv = 'data.tsv'\n",
        "gdown.download(url, data_tsv, quiet=False)\n",
        "data_file = 'data.tsv'"
      ],
      "execution_count": null,
      "outputs": [
        {
          "output_type": "stream",
          "name": "stderr",
          "text": [
            "Downloading...\n",
            "From: https://drive.google.com/uc?id=1JQ_gVoF1z57Zo2U_mDBTsOUKsWc95G2w\n",
            "To: /content/data.tsv\n",
            "100%|██████████| 106k/106k [00:00<00:00, 70.7MB/s]\n"
          ]
        }
      ]
    },
    {
      "cell_type": "code",
      "metadata": {
        "id": "LviD8xrWfMzo"
      },
      "source": [
        "# initializing the dataframe \n",
        "\n",
        "import  pandas as pd\n",
        "df0 = pd.read_csv(data_file, sep=\"\\t\")"
      ],
      "execution_count": null,
      "outputs": []
    },
    {
      "cell_type": "code",
      "metadata": {
        "id": "xpIpoLbZfOmx"
      },
      "source": [
        "df = df0.copy(deep=True)"
      ],
      "execution_count": null,
      "outputs": []
    },
    {
      "cell_type": "code",
      "metadata": {
        "id": "rx2eNLC3hRC-"
      },
      "source": [
        "df = df.iloc[:,1:]"
      ],
      "execution_count": null,
      "outputs": []
    },
    {
      "cell_type": "code",
      "metadata": {
        "colab": {
          "base_uri": "https://localhost:8080/",
          "height": 469
        },
        "id": "sV7jSwBkh7EQ",
        "outputId": "eb1c95f1-d9b8-4b36-a385-56b546126a50"
      },
      "source": [
        "df.head()"
      ],
      "execution_count": null,
      "outputs": [
        {
          "output_type": "execute_result",
          "data": {
            "text/html": [
              "<div>\n",
              "<style scoped>\n",
              "    .dataframe tbody tr th:only-of-type {\n",
              "        vertical-align: middle;\n",
              "    }\n",
              "\n",
              "    .dataframe tbody tr th {\n",
              "        vertical-align: top;\n",
              "    }\n",
              "\n",
              "    .dataframe thead th {\n",
              "        text-align: right;\n",
              "    }\n",
              "</style>\n",
              "<table border=\"1\" class=\"dataframe\">\n",
              "  <thead>\n",
              "    <tr style=\"text-align: right;\">\n",
              "      <th></th>\n",
              "      <th>Group</th>\n",
              "      <th>Sex</th>\n",
              "      <th>Age</th>\n",
              "      <th>Patients number per hour</th>\n",
              "      <th>Arrival mode</th>\n",
              "      <th>Injury</th>\n",
              "      <th>Cheif_Complain_Translated</th>\n",
              "      <th>Mental</th>\n",
              "      <th>Pain</th>\n",
              "      <th>NRS_pain</th>\n",
              "      <th>SBP</th>\n",
              "      <th>DBP</th>\n",
              "      <th>HR</th>\n",
              "      <th>RR</th>\n",
              "      <th>BT</th>\n",
              "      <th>Saturation</th>\n",
              "      <th>Diagnosis in ED</th>\n",
              "      <th>KTAS_expert</th>\n",
              "    </tr>\n",
              "  </thead>\n",
              "  <tbody>\n",
              "    <tr>\n",
              "      <th>0</th>\n",
              "      <td>2</td>\n",
              "      <td>2</td>\n",
              "      <td>71</td>\n",
              "      <td>3</td>\n",
              "      <td>3</td>\n",
              "      <td>2</td>\n",
              "      <td>right ocular pain</td>\n",
              "      <td>1</td>\n",
              "      <td>1</td>\n",
              "      <td>2.0</td>\n",
              "      <td>160.0</td>\n",
              "      <td>100.0</td>\n",
              "      <td>84.0</td>\n",
              "      <td>18.0</td>\n",
              "      <td>36.6</td>\n",
              "      <td>100.0</td>\n",
              "      <td>Corneal abrasion</td>\n",
              "      <td>4</td>\n",
              "    </tr>\n",
              "    <tr>\n",
              "      <th>1</th>\n",
              "      <td>1</td>\n",
              "      <td>1</td>\n",
              "      <td>56</td>\n",
              "      <td>12</td>\n",
              "      <td>3</td>\n",
              "      <td>2</td>\n",
              "      <td>right forearm burn</td>\n",
              "      <td>1</td>\n",
              "      <td>1</td>\n",
              "      <td>2.0</td>\n",
              "      <td>137.0</td>\n",
              "      <td>75.0</td>\n",
              "      <td>60.0</td>\n",
              "      <td>20.0</td>\n",
              "      <td>36.5</td>\n",
              "      <td>NaN</td>\n",
              "      <td>Burn of hand, firts degree dorsum</td>\n",
              "      <td>5</td>\n",
              "    </tr>\n",
              "    <tr>\n",
              "      <th>2</th>\n",
              "      <td>2</td>\n",
              "      <td>1</td>\n",
              "      <td>68</td>\n",
              "      <td>8</td>\n",
              "      <td>2</td>\n",
              "      <td>2</td>\n",
              "      <td>arm pain, Lt</td>\n",
              "      <td>1</td>\n",
              "      <td>1</td>\n",
              "      <td>2.0</td>\n",
              "      <td>130.0</td>\n",
              "      <td>80.0</td>\n",
              "      <td>102.0</td>\n",
              "      <td>20.0</td>\n",
              "      <td>36.6</td>\n",
              "      <td>98.0</td>\n",
              "      <td>Fracture of surgical neck of humerus, closed</td>\n",
              "      <td>5</td>\n",
              "    </tr>\n",
              "    <tr>\n",
              "      <th>3</th>\n",
              "      <td>1</td>\n",
              "      <td>2</td>\n",
              "      <td>71</td>\n",
              "      <td>8</td>\n",
              "      <td>1</td>\n",
              "      <td>1</td>\n",
              "      <td>ascites tapping</td>\n",
              "      <td>1</td>\n",
              "      <td>1</td>\n",
              "      <td>3.0</td>\n",
              "      <td>139.0</td>\n",
              "      <td>94.0</td>\n",
              "      <td>88.0</td>\n",
              "      <td>20.0</td>\n",
              "      <td>36.5</td>\n",
              "      <td>NaN</td>\n",
              "      <td>Alcoholic liver cirrhosis with ascites</td>\n",
              "      <td>5</td>\n",
              "    </tr>\n",
              "    <tr>\n",
              "      <th>4</th>\n",
              "      <td>1</td>\n",
              "      <td>2</td>\n",
              "      <td>58</td>\n",
              "      <td>4</td>\n",
              "      <td>3</td>\n",
              "      <td>1</td>\n",
              "      <td>Distension, Abd</td>\n",
              "      <td>1</td>\n",
              "      <td>1</td>\n",
              "      <td>3.0</td>\n",
              "      <td>91.0</td>\n",
              "      <td>67.0</td>\n",
              "      <td>93.0</td>\n",
              "      <td>18.0</td>\n",
              "      <td>36.5</td>\n",
              "      <td>NaN</td>\n",
              "      <td>Ascites</td>\n",
              "      <td>5</td>\n",
              "    </tr>\n",
              "  </tbody>\n",
              "</table>\n",
              "</div>"
            ],
            "text/plain": [
              "   Group  Sex  ...                               Diagnosis in ED  KTAS_expert\n",
              "0      2    2  ...                              Corneal abrasion            4\n",
              "1      1    1  ...             Burn of hand, firts degree dorsum            5\n",
              "2      2    1  ...  Fracture of surgical neck of humerus, closed            5\n",
              "3      1    2  ...        Alcoholic liver cirrhosis with ascites            5\n",
              "4      1    2  ...                                       Ascites            5\n",
              "\n",
              "[5 rows x 18 columns]"
            ]
          },
          "metadata": {},
          "execution_count": 59
        }
      ]
    },
    {
      "cell_type": "code",
      "metadata": {
        "id": "OgjaWCFnh8KC"
      },
      "source": [
        "# Arrival modes '5' and '7' had very low occurences (2 each) \n",
        "# so those rows were dropped to reduce feature size\n",
        "\n",
        "df = df[df['Arrival mode'] != 5]\n",
        "df = df[df['Arrival mode'] != 7]"
      ],
      "execution_count": null,
      "outputs": []
    },
    {
      "cell_type": "code",
      "metadata": {
        "id": "lKHgUsWGjxRR",
        "colab": {
          "base_uri": "https://localhost:8080/"
        },
        "outputId": "864d506d-1107-40a9-82fb-e90026853871"
      },
      "source": [
        "# Replacing NaN values in text features with empty strings\n",
        "\n",
        "df['Diagnosis in ED'].replace(np.nan, '', inplace=True)"
      ],
      "execution_count": null,
      "outputs": [
        {
          "output_type": "stream",
          "name": "stderr",
          "text": [
            "/usr/local/lib/python3.7/dist-packages/pandas/core/series.py:4582: SettingWithCopyWarning: \n",
            "A value is trying to be set on a copy of a slice from a DataFrame\n",
            "\n",
            "See the caveats in the documentation: https://pandas.pydata.org/pandas-docs/stable/user_guide/indexing.html#returning-a-view-versus-a-copy\n",
            "  method=method,\n"
          ]
        }
      ]
    },
    {
      "cell_type": "code",
      "metadata": {
        "colab": {
          "base_uri": "https://localhost:8080/"
        },
        "id": "ixnY9ox-iIAU",
        "outputId": "ea547524-57cd-4b7d-e64a-72ee30cb5329"
      },
      "source": [
        "df.isnull().sum()"
      ],
      "execution_count": null,
      "outputs": [
        {
          "output_type": "execute_result",
          "data": {
            "text/plain": [
              "Group                          0\n",
              "Sex                            0\n",
              "Age                            0\n",
              "Patients number per hour       0\n",
              "Arrival mode                   0\n",
              "Injury                         0\n",
              "Cheif_Complain_Translated      0\n",
              "Mental                         0\n",
              "Pain                           0\n",
              "NRS_pain                     552\n",
              "SBP                           25\n",
              "DBP                           29\n",
              "HR                            20\n",
              "RR                            22\n",
              "BT                            18\n",
              "Saturation                   694\n",
              "Diagnosis in ED                0\n",
              "KTAS_expert                    0\n",
              "dtype: int64"
            ]
          },
          "metadata": {},
          "execution_count": 62
        }
      ]
    },
    {
      "cell_type": "code",
      "metadata": {
        "id": "QtPzT9dqiK2A"
      },
      "source": [
        "# feature-target split \n",
        "\n",
        "X, y = df.drop(columns=['KTAS_expert'], axis=1), df['KTAS_expert']"
      ],
      "execution_count": null,
      "outputs": []
    },
    {
      "cell_type": "code",
      "metadata": {
        "id": "Dg4kHkRtiNv9"
      },
      "source": [
        "# train-test split\n",
        "\n",
        "X_train, X_test, y_train, y_test = train_test_split(X, y, \n",
        "                                                    test_size=0.33, \n",
        "                                                    random_state=30) "
      ],
      "execution_count": null,
      "outputs": []
    },
    {
      "cell_type": "code",
      "metadata": {
        "id": "e3FhRxCOiQa7"
      },
      "source": [
        "feat_impute_0 = ['NRS_pain']                                            # features where NaN values have to be replaed with 0\n",
        "feat_impute_mean = ['SBP', 'DBP', 'HR', 'RR', 'BT', 'Saturation']       # features where NaN values have to be replaed with mean\n",
        "feat_onehot = ['Group', 'Sex', 'Arrival mode', 'Injury', 'Pain']        # features which have to be one-hot encoded\n",
        "feat_scale_rest = ['Age', 'Patients number per hour', 'Mental']         # rest of the features which only have to be normalized"
      ],
      "execution_count": null,
      "outputs": []
    },
    {
      "cell_type": "code",
      "metadata": {
        "id": "HEIl0FDFiTCE"
      },
      "source": [
        "simple_imputer_0 = SimpleImputer(strategy='constant', fill_value=0)     \n",
        "simple_imputer_0.fit(X[feat_impute_0])\n",
        "standard_scaler_impute_0 = StandardScaler()\n",
        "standard_scaler_impute_0.fit(simple_imputer_0.transform(X[feat_impute_0]))\n",
        "\n",
        "pipe_impute_0 = Pipeline([                                              # 0 imputer and normalizing pipeline\n",
        "    ('imputer', simple_imputer_0),\n",
        "    ('scaler', standard_scaler_impute_0)\n",
        "])"
      ],
      "execution_count": null,
      "outputs": []
    },
    {
      "cell_type": "code",
      "metadata": {
        "id": "0ZmEqtdbiaEo"
      },
      "source": [
        "simple_imputer_mean = SimpleImputer()\n",
        "simple_imputer_mean.fit(X[feat_impute_mean])\n",
        "standard_scaler_impute_mean = StandardScaler()\n",
        "standard_scaler_impute_mean.fit(simple_imputer_mean.transform(X[feat_impute_mean]))\n",
        "\n",
        "pipe_impute_mean = Pipeline([                                           # mean imputer and normalizing pipeline\n",
        "    ('imputer', simple_imputer_mean),\n",
        "    ('scaler', standard_scaler_impute_mean)\n",
        "])"
      ],
      "execution_count": null,
      "outputs": []
    },
    {
      "cell_type": "code",
      "metadata": {
        "id": "OjUrFX0btEBx"
      },
      "source": [
        "count_vectorizer_complain = CountVectorizer()   \n",
        "count_vectorizer_complain.fit(X['Cheif_Complain_Translated'])\n",
        "lsa_complain = TruncatedSVD(n_components=120)\n",
        "lsa_complain.fit(count_vectorizer_complain.transform(X['Cheif_Complain_Translated']))\n",
        "\n",
        "pipe_complain = Pipeline([                                              # text feature vectorizer and decomposition pipeline\n",
        "    ('cvec', count_vectorizer_complain),\n",
        "    ('lsa', lsa_complain)\n",
        "])"
      ],
      "execution_count": null,
      "outputs": []
    },
    {
      "cell_type": "code",
      "metadata": {
        "id": "f94G1MlstD66"
      },
      "source": [
        "count_vectorizer_diagnosis = CountVectorizer()   \n",
        "count_vectorizer_diagnosis.fit(X['Diagnosis in ED'])\n",
        "lsa_diagnosis = TruncatedSVD(n_components=120)\n",
        "lsa_diagnosis.fit(count_vectorizer_diagnosis.transform(X['Diagnosis in ED']))\n",
        "\n",
        "pipe_diagnosis = Pipeline([                                             # text feature vectorizer and decomposition pipeline\n",
        "    ('cvec', count_vectorizer_diagnosis),\n",
        "    ('lsa', lsa_diagnosis)\n",
        "])"
      ],
      "execution_count": null,
      "outputs": []
    },
    {
      "cell_type": "code",
      "metadata": {
        "colab": {
          "base_uri": "https://localhost:8080/",
          "height": 74
        },
        "id": "aXRdv1Vdidx4",
        "outputId": "4a375f4f-10dd-4fcb-90d7-02063e2c3a52"
      },
      "source": [
        "one_hot_encoder =  OneHotEncoder(drop='first')                          # one-hot encoder\n",
        "one_hot_encoder.fit(X[feat_onehot])"
      ],
      "execution_count": null,
      "outputs": [
        {
          "output_type": "execute_result",
          "data": {
            "text/html": [
              "<style>#sk-c674db51-b20b-4b34-8f68-6a95e24d3aa4 {color: black;background-color: white;}#sk-c674db51-b20b-4b34-8f68-6a95e24d3aa4 pre{padding: 0;}#sk-c674db51-b20b-4b34-8f68-6a95e24d3aa4 div.sk-toggleable {background-color: white;}#sk-c674db51-b20b-4b34-8f68-6a95e24d3aa4 label.sk-toggleable__label {cursor: pointer;display: block;width: 100%;margin-bottom: 0;padding: 0.3em;box-sizing: border-box;text-align: center;}#sk-c674db51-b20b-4b34-8f68-6a95e24d3aa4 div.sk-toggleable__content {max-height: 0;max-width: 0;overflow: hidden;text-align: left;background-color: #f0f8ff;}#sk-c674db51-b20b-4b34-8f68-6a95e24d3aa4 div.sk-toggleable__content pre {margin: 0.2em;color: black;border-radius: 0.25em;background-color: #f0f8ff;}#sk-c674db51-b20b-4b34-8f68-6a95e24d3aa4 input.sk-toggleable__control:checked~div.sk-toggleable__content {max-height: 200px;max-width: 100%;overflow: auto;}#sk-c674db51-b20b-4b34-8f68-6a95e24d3aa4 div.sk-estimator input.sk-toggleable__control:checked~label.sk-toggleable__label {background-color: #d4ebff;}#sk-c674db51-b20b-4b34-8f68-6a95e24d3aa4 div.sk-label input.sk-toggleable__control:checked~label.sk-toggleable__label {background-color: #d4ebff;}#sk-c674db51-b20b-4b34-8f68-6a95e24d3aa4 input.sk-hidden--visually {border: 0;clip: rect(1px 1px 1px 1px);clip: rect(1px, 1px, 1px, 1px);height: 1px;margin: -1px;overflow: hidden;padding: 0;position: absolute;width: 1px;}#sk-c674db51-b20b-4b34-8f68-6a95e24d3aa4 div.sk-estimator {font-family: monospace;background-color: #f0f8ff;border: 1px dotted black;border-radius: 0.25em;box-sizing: border-box;margin-bottom: 0.5em;}#sk-c674db51-b20b-4b34-8f68-6a95e24d3aa4 div.sk-estimator:hover {background-color: #d4ebff;}#sk-c674db51-b20b-4b34-8f68-6a95e24d3aa4 div.sk-parallel-item::after {content: \"\";width: 100%;border-bottom: 1px solid gray;flex-grow: 1;}#sk-c674db51-b20b-4b34-8f68-6a95e24d3aa4 div.sk-label:hover label.sk-toggleable__label {background-color: #d4ebff;}#sk-c674db51-b20b-4b34-8f68-6a95e24d3aa4 div.sk-serial::before {content: \"\";position: absolute;border-left: 1px solid gray;box-sizing: border-box;top: 2em;bottom: 0;left: 50%;}#sk-c674db51-b20b-4b34-8f68-6a95e24d3aa4 div.sk-serial {display: flex;flex-direction: column;align-items: center;background-color: white;padding-right: 0.2em;padding-left: 0.2em;}#sk-c674db51-b20b-4b34-8f68-6a95e24d3aa4 div.sk-item {z-index: 1;}#sk-c674db51-b20b-4b34-8f68-6a95e24d3aa4 div.sk-parallel {display: flex;align-items: stretch;justify-content: center;background-color: white;}#sk-c674db51-b20b-4b34-8f68-6a95e24d3aa4 div.sk-parallel::before {content: \"\";position: absolute;border-left: 1px solid gray;box-sizing: border-box;top: 2em;bottom: 0;left: 50%;}#sk-c674db51-b20b-4b34-8f68-6a95e24d3aa4 div.sk-parallel-item {display: flex;flex-direction: column;position: relative;background-color: white;}#sk-c674db51-b20b-4b34-8f68-6a95e24d3aa4 div.sk-parallel-item:first-child::after {align-self: flex-end;width: 50%;}#sk-c674db51-b20b-4b34-8f68-6a95e24d3aa4 div.sk-parallel-item:last-child::after {align-self: flex-start;width: 50%;}#sk-c674db51-b20b-4b34-8f68-6a95e24d3aa4 div.sk-parallel-item:only-child::after {width: 0;}#sk-c674db51-b20b-4b34-8f68-6a95e24d3aa4 div.sk-dashed-wrapped {border: 1px dashed gray;margin: 0 0.4em 0.5em 0.4em;box-sizing: border-box;padding-bottom: 0.4em;background-color: white;position: relative;}#sk-c674db51-b20b-4b34-8f68-6a95e24d3aa4 div.sk-label label {font-family: monospace;font-weight: bold;background-color: white;display: inline-block;line-height: 1.2em;}#sk-c674db51-b20b-4b34-8f68-6a95e24d3aa4 div.sk-label-container {position: relative;z-index: 2;text-align: center;}#sk-c674db51-b20b-4b34-8f68-6a95e24d3aa4 div.sk-container {display: inline-block;position: relative;}</style><div id=\"sk-c674db51-b20b-4b34-8f68-6a95e24d3aa4\" class\"sk-top-container\"><div class=\"sk-container\"><div class=\"sk-item\"><div class=\"sk-estimator sk-toggleable\"><input class=\"sk-toggleable__control sk-hidden--visually\" id=\"c0b20715-f487-48c0-ad65-b29f93dac0fd\" type=\"checkbox\" checked><label class=\"sk-toggleable__label\" for=\"c0b20715-f487-48c0-ad65-b29f93dac0fd\">OneHotEncoder</label><div class=\"sk-toggleable__content\"><pre>OneHotEncoder(drop='first')</pre></div></div></div></div></div>"
            ],
            "text/plain": [
              "OneHotEncoder(drop='first')"
            ]
          },
          "metadata": {},
          "execution_count": 70
        }
      ]
    },
    {
      "cell_type": "code",
      "metadata": {
        "colab": {
          "base_uri": "https://localhost:8080/",
          "height": 74
        },
        "id": "URUSk5iailW3",
        "outputId": "5286e78d-d2ba-41ed-ba23-832158ff7d56"
      },
      "source": [
        "standard_scaler_rest = StandardScaler()                                 # standard normalizing saler\n",
        "standard_scaler_rest.fit(X[feat_scale_rest])"
      ],
      "execution_count": null,
      "outputs": [
        {
          "output_type": "execute_result",
          "data": {
            "text/html": [
              "<style>#sk-0b27ce92-0730-416f-ab19-b15c1c426a85 {color: black;background-color: white;}#sk-0b27ce92-0730-416f-ab19-b15c1c426a85 pre{padding: 0;}#sk-0b27ce92-0730-416f-ab19-b15c1c426a85 div.sk-toggleable {background-color: white;}#sk-0b27ce92-0730-416f-ab19-b15c1c426a85 label.sk-toggleable__label {cursor: pointer;display: block;width: 100%;margin-bottom: 0;padding: 0.3em;box-sizing: border-box;text-align: center;}#sk-0b27ce92-0730-416f-ab19-b15c1c426a85 div.sk-toggleable__content {max-height: 0;max-width: 0;overflow: hidden;text-align: left;background-color: #f0f8ff;}#sk-0b27ce92-0730-416f-ab19-b15c1c426a85 div.sk-toggleable__content pre {margin: 0.2em;color: black;border-radius: 0.25em;background-color: #f0f8ff;}#sk-0b27ce92-0730-416f-ab19-b15c1c426a85 input.sk-toggleable__control:checked~div.sk-toggleable__content {max-height: 200px;max-width: 100%;overflow: auto;}#sk-0b27ce92-0730-416f-ab19-b15c1c426a85 div.sk-estimator input.sk-toggleable__control:checked~label.sk-toggleable__label {background-color: #d4ebff;}#sk-0b27ce92-0730-416f-ab19-b15c1c426a85 div.sk-label input.sk-toggleable__control:checked~label.sk-toggleable__label {background-color: #d4ebff;}#sk-0b27ce92-0730-416f-ab19-b15c1c426a85 input.sk-hidden--visually {border: 0;clip: rect(1px 1px 1px 1px);clip: rect(1px, 1px, 1px, 1px);height: 1px;margin: -1px;overflow: hidden;padding: 0;position: absolute;width: 1px;}#sk-0b27ce92-0730-416f-ab19-b15c1c426a85 div.sk-estimator {font-family: monospace;background-color: #f0f8ff;border: 1px dotted black;border-radius: 0.25em;box-sizing: border-box;margin-bottom: 0.5em;}#sk-0b27ce92-0730-416f-ab19-b15c1c426a85 div.sk-estimator:hover {background-color: #d4ebff;}#sk-0b27ce92-0730-416f-ab19-b15c1c426a85 div.sk-parallel-item::after {content: \"\";width: 100%;border-bottom: 1px solid gray;flex-grow: 1;}#sk-0b27ce92-0730-416f-ab19-b15c1c426a85 div.sk-label:hover label.sk-toggleable__label {background-color: #d4ebff;}#sk-0b27ce92-0730-416f-ab19-b15c1c426a85 div.sk-serial::before {content: \"\";position: absolute;border-left: 1px solid gray;box-sizing: border-box;top: 2em;bottom: 0;left: 50%;}#sk-0b27ce92-0730-416f-ab19-b15c1c426a85 div.sk-serial {display: flex;flex-direction: column;align-items: center;background-color: white;padding-right: 0.2em;padding-left: 0.2em;}#sk-0b27ce92-0730-416f-ab19-b15c1c426a85 div.sk-item {z-index: 1;}#sk-0b27ce92-0730-416f-ab19-b15c1c426a85 div.sk-parallel {display: flex;align-items: stretch;justify-content: center;background-color: white;}#sk-0b27ce92-0730-416f-ab19-b15c1c426a85 div.sk-parallel::before {content: \"\";position: absolute;border-left: 1px solid gray;box-sizing: border-box;top: 2em;bottom: 0;left: 50%;}#sk-0b27ce92-0730-416f-ab19-b15c1c426a85 div.sk-parallel-item {display: flex;flex-direction: column;position: relative;background-color: white;}#sk-0b27ce92-0730-416f-ab19-b15c1c426a85 div.sk-parallel-item:first-child::after {align-self: flex-end;width: 50%;}#sk-0b27ce92-0730-416f-ab19-b15c1c426a85 div.sk-parallel-item:last-child::after {align-self: flex-start;width: 50%;}#sk-0b27ce92-0730-416f-ab19-b15c1c426a85 div.sk-parallel-item:only-child::after {width: 0;}#sk-0b27ce92-0730-416f-ab19-b15c1c426a85 div.sk-dashed-wrapped {border: 1px dashed gray;margin: 0 0.4em 0.5em 0.4em;box-sizing: border-box;padding-bottom: 0.4em;background-color: white;position: relative;}#sk-0b27ce92-0730-416f-ab19-b15c1c426a85 div.sk-label label {font-family: monospace;font-weight: bold;background-color: white;display: inline-block;line-height: 1.2em;}#sk-0b27ce92-0730-416f-ab19-b15c1c426a85 div.sk-label-container {position: relative;z-index: 2;text-align: center;}#sk-0b27ce92-0730-416f-ab19-b15c1c426a85 div.sk-container {display: inline-block;position: relative;}</style><div id=\"sk-0b27ce92-0730-416f-ab19-b15c1c426a85\" class\"sk-top-container\"><div class=\"sk-container\"><div class=\"sk-item\"><div class=\"sk-estimator sk-toggleable\"><input class=\"sk-toggleable__control sk-hidden--visually\" id=\"0334881e-6703-4908-be35-c9d2f9949c67\" type=\"checkbox\" checked><label class=\"sk-toggleable__label\" for=\"0334881e-6703-4908-be35-c9d2f9949c67\">StandardScaler</label><div class=\"sk-toggleable__content\"><pre>StandardScaler()</pre></div></div></div></div></div>"
            ],
            "text/plain": [
              "StandardScaler()"
            ]
          },
          "metadata": {},
          "execution_count": 71
        }
      ]
    },
    {
      "cell_type": "code",
      "metadata": {
        "id": "bgmOCQT8ioXN"
      },
      "source": [
        "pre_proc_cols = ColumnTransformer([                                     # Column transformer to conatenate the various pipelines\n",
        "    ('impute_0', pipe_impute_0, feat_impute_0),\n",
        "    ('impute_mean', pipe_impute_mean, feat_impute_mean),\n",
        "    ('cv_complains', pipe_complain, 'Cheif_Complain_Translated'),\n",
        "    ('cv_diagnosis', pipe_diagnosis, 'Diagnosis in ED'),\n",
        "    ('one_hot', one_hot_encoder, feat_onehot),\n",
        "    ('scale_rest', standard_scaler_rest, feat_scale_rest)\n",
        "])"
      ],
      "execution_count": null,
      "outputs": []
    },
    {
      "cell_type": "code",
      "metadata": {
        "id": "Se1gH1Y4Qsfc"
      },
      "source": [
        "# Traige Accuracy metric. \n",
        "\n",
        "def triage_accuracy(y, y_hat):    \n",
        "  tru = 0\n",
        "  for tr, pr in zip(y, y_hat):\n",
        "    # the accuracy window is tunable, currently set for maximizing surety in exchange for increased window size\n",
        "    if (pr - tr < 1.6 and pr - tr >= 0) or (tr - pr < 1.2 and tr - pr >= 0):\n",
        "      tru+=1\n",
        "  return tru/len(y)\n",
        "\n",
        "from sklearn.metrics import make_scorer\n",
        "\n",
        "triage_score = make_scorer(triage_accuracy)"
      ],
      "execution_count": null,
      "outputs": []
    },
    {
      "cell_type": "code",
      "metadata": {
        "id": "TSWUd9U-usR_"
      },
      "source": [
        "# helper function to map model's prediction to output class \n",
        "\n",
        "def y_class(y):\n",
        "  if y < 1.4:\n",
        "    return 1\n",
        "  elif y < 2.4:\n",
        "    return 2\n",
        "  elif y < 3.4:\n",
        "    return 3\n",
        "  elif y < 4.4:\n",
        "    return 4\n",
        "  else:\n",
        "    return 5"
      ],
      "execution_count": null,
      "outputs": []
    },
    {
      "cell_type": "code",
      "metadata": {
        "id": "aTJO3oTButTx"
      },
      "source": [
        "# function to map model's prediction to output class \n",
        "\n",
        "def triage_output(y_hat):\n",
        "  y_out = [y_class(y) for y in y_hat]\n",
        "  return np.array(y_out)"
      ],
      "execution_count": null,
      "outputs": []
    },
    {
      "cell_type": "code",
      "metadata": {
        "id": "-ZsvHkUeuwtY"
      },
      "source": [
        "# a pseudo precision-recall-f1 score metric \n",
        "\n",
        "def triage_precision_recall_f1(y, y_hat):\n",
        "\n",
        "  true_count_by_label = collections.Counter(y)\n",
        "  \n",
        "  y_out = triage_output(y_hat)\n",
        "  pred_count_by_label = collections.Counter(y_out)\n",
        "\n",
        "  correct_by_label = {\n",
        "      1:0, 2:0, 3:0, 4:0, 5:0\n",
        "  }\n",
        "\n",
        "  # for tr, pr in zip(y, y_out):\n",
        "  #   if tr == pr:\n",
        "  #     correct_by_label[tr] += 1\n",
        "\n",
        "  for tr, pr in zip(y, y_hat):\n",
        "    if ( (tr + 0.6) > pr and (tr - 0.4) < pr ) :\n",
        "      correct_by_label[tr] += 1\n",
        "    elif ( (tr + 1.2) > pr and (tr - 0.8) < pr ) :\n",
        "      correct_by_label[tr] += 0.4\n",
        "    elif ( (tr + 1.5) > pr and (tr - 1) < pr ) :\n",
        "      correct_by_label[tr] += 0.2\n",
        "    elif ( pr > 5 and tr == 5 ):\n",
        "      correct_by_label[5] += 1\n",
        "    elif ( pr < 1 and tr == 1 ):\n",
        "      correct_by_label[1] += 1\n",
        "\n",
        "  precision = {\n",
        "      1: correct_by_label[1] / pred_count_by_label[1],\n",
        "      2: correct_by_label[2] / pred_count_by_label[2],\n",
        "      3: correct_by_label[3] / pred_count_by_label[3],\n",
        "      4: correct_by_label[4] / pred_count_by_label[4],\n",
        "      5: 0,\n",
        "  }\n",
        "\n",
        "  recall = {\n",
        "      1: correct_by_label[1] / true_count_by_label[1],\n",
        "      2: correct_by_label[2] / true_count_by_label[2],\n",
        "      3: correct_by_label[3] / true_count_by_label[3],\n",
        "      4: correct_by_label[4] / true_count_by_label[4],\n",
        "      5: 0,\n",
        "  }\n",
        "\n",
        "  f1 = {\n",
        "      1: (2 * precision[1] * recall[1]) / (precision[1] + recall[1]),\n",
        "      2: (2 * precision[2] * recall[2]) / (precision[2] + recall[2]),\n",
        "      3: (2 * precision[3] * recall[3]) / (precision[3] + recall[3]),\n",
        "      4: (2 * precision[4] * recall[4]) / (precision[4] + recall[4]),\n",
        "      5: (2 * precision[5] * recall[5]) / (precision[5] + recall[5])\n",
        "  }\n",
        "\n",
        "  mean_val = {\n",
        "      'mean precision': np.array(list(precision.values())).mean(),\n",
        "      'mean recall': np.array(list(recall.values())).mean(),\n",
        "      'mean f1': np.array(list(f1.values())).mean(),\n",
        "  }\n",
        "\n",
        "  return [precision, recall,  f1, mean_val]"
      ],
      "execution_count": null,
      "outputs": []
    },
    {
      "cell_type": "code",
      "metadata": {
        "id": "wwJ2P-M92u5S"
      },
      "source": [
        "set_config(display=\"diagram\")"
      ],
      "execution_count": null,
      "outputs": []
    },
    {
      "cell_type": "markdown",
      "metadata": {
        "id": "jHkHxTFOnXtp"
      },
      "source": [
        "Training the pipeline using various regression methods."
      ]
    },
    {
      "cell_type": "code",
      "metadata": {
        "id": "V64rhunDiuSd",
        "colab": {
          "base_uri": "https://localhost:8080/",
          "height": 539
        },
        "outputId": "4d1b3a4b-4986-47f3-bf8e-88402d53cb02"
      },
      "source": [
        "from sklearn.linear_model import LinearRegression\n",
        "\n",
        "lin = LinearRegression()\n",
        "\n",
        "pipe_lin = Pipeline([\n",
        "    ('prep_proc', pre_proc_cols),\n",
        "    ('clf', lin)\n",
        "])\n",
        "\n",
        "lin_params = {}\n",
        "\n",
        "lin_grid = GridSearchCV(pipe_lin, lin_params, cv=10, scoring=triage_score)\n",
        "\n",
        "lin_grid.fit(X_train, y_train)\n",
        "y_pred = lin_grid.predict(X_test)\n",
        "\n",
        "print('Best Score:')\n",
        "print(lin_grid.best_score_)\n",
        "print('Best Params:')\n",
        "print(lin_grid.best_params_)\n",
        "print('Accuracy on test set:')\n",
        "print(triage_score(lin_grid, X_test, y_test))\n",
        "prec_recall_f1 = triage_precision_recall_f1(y_test, y_pred)\n",
        "print('Classwise weak precision:')\n",
        "print(prec_recall_f1[0])\n",
        "print('Classwise weak recall:')\n",
        "print(prec_recall_f1[1])\n",
        "print('Classwise weak f1-score:')\n",
        "print(prec_recall_f1[2])\n",
        "print('Mean weak precision:')\n",
        "print(prec_recall_f1[3]['mean precision'])\n",
        "print('Mean weak recall:')\n",
        "print(prec_recall_f1[3]['mean recall'])\n",
        "print('Mean weak f1-score:')\n",
        "print(prec_recall_f1[3]['mean f1'])\n",
        "\n",
        "pipe_lin"
      ],
      "execution_count": null,
      "outputs": [
        {
          "output_type": "stream",
          "name": "stdout",
          "text": [
            "Best Score:\n",
            "0.9538375350140056\n",
            "Best Params:\n",
            "{}\n",
            "Accuracy on test set:\n",
            "0.9544364508393285\n",
            "Classwise weak precision:\n",
            "{1: 0.6, 2: 1.0749999999999997, 3: 0.8085365853658542, 4: 0.6054644808743174, 5: 0.32173913043478264}\n",
            "Classwise weak recall:\n",
            "{1: 0.38181818181818183, 2: 0.6615384615384613, 3: 0.7892857142857148, 4: 0.7337748344370867, 5: 0.3363636363636364}\n",
            "Classwise weak f1-score:\n",
            "{1: 0.4666666666666667, 2: 0.8190476190476187, 3: 0.798795180722892, 4: 0.663473053892216, 5: 0.3288888888888889}\n",
            "Mean weak precision:\n",
            "0.6821480393349908\n",
            "Mean weak recall:\n",
            "0.5805561656886162\n",
            "Mean weak f1-score:\n",
            "0.6153742818436564\n"
          ]
        },
        {
          "output_type": "execute_result",
          "data": {
            "text/html": [
              "<style>#sk-d4fe0f4a-4c96-4172-ae80-243822f99c85 {color: black;background-color: white;}#sk-d4fe0f4a-4c96-4172-ae80-243822f99c85 pre{padding: 0;}#sk-d4fe0f4a-4c96-4172-ae80-243822f99c85 div.sk-toggleable {background-color: white;}#sk-d4fe0f4a-4c96-4172-ae80-243822f99c85 label.sk-toggleable__label {cursor: pointer;display: block;width: 100%;margin-bottom: 0;padding: 0.3em;box-sizing: border-box;text-align: center;}#sk-d4fe0f4a-4c96-4172-ae80-243822f99c85 div.sk-toggleable__content {max-height: 0;max-width: 0;overflow: hidden;text-align: left;background-color: #f0f8ff;}#sk-d4fe0f4a-4c96-4172-ae80-243822f99c85 div.sk-toggleable__content pre {margin: 0.2em;color: black;border-radius: 0.25em;background-color: #f0f8ff;}#sk-d4fe0f4a-4c96-4172-ae80-243822f99c85 input.sk-toggleable__control:checked~div.sk-toggleable__content {max-height: 200px;max-width: 100%;overflow: auto;}#sk-d4fe0f4a-4c96-4172-ae80-243822f99c85 div.sk-estimator input.sk-toggleable__control:checked~label.sk-toggleable__label {background-color: #d4ebff;}#sk-d4fe0f4a-4c96-4172-ae80-243822f99c85 div.sk-label input.sk-toggleable__control:checked~label.sk-toggleable__label {background-color: #d4ebff;}#sk-d4fe0f4a-4c96-4172-ae80-243822f99c85 input.sk-hidden--visually {border: 0;clip: rect(1px 1px 1px 1px);clip: rect(1px, 1px, 1px, 1px);height: 1px;margin: -1px;overflow: hidden;padding: 0;position: absolute;width: 1px;}#sk-d4fe0f4a-4c96-4172-ae80-243822f99c85 div.sk-estimator {font-family: monospace;background-color: #f0f8ff;border: 1px dotted black;border-radius: 0.25em;box-sizing: border-box;margin-bottom: 0.5em;}#sk-d4fe0f4a-4c96-4172-ae80-243822f99c85 div.sk-estimator:hover {background-color: #d4ebff;}#sk-d4fe0f4a-4c96-4172-ae80-243822f99c85 div.sk-parallel-item::after {content: \"\";width: 100%;border-bottom: 1px solid gray;flex-grow: 1;}#sk-d4fe0f4a-4c96-4172-ae80-243822f99c85 div.sk-label:hover label.sk-toggleable__label {background-color: #d4ebff;}#sk-d4fe0f4a-4c96-4172-ae80-243822f99c85 div.sk-serial::before {content: \"\";position: absolute;border-left: 1px solid gray;box-sizing: border-box;top: 2em;bottom: 0;left: 50%;}#sk-d4fe0f4a-4c96-4172-ae80-243822f99c85 div.sk-serial {display: flex;flex-direction: column;align-items: center;background-color: white;padding-right: 0.2em;padding-left: 0.2em;}#sk-d4fe0f4a-4c96-4172-ae80-243822f99c85 div.sk-item {z-index: 1;}#sk-d4fe0f4a-4c96-4172-ae80-243822f99c85 div.sk-parallel {display: flex;align-items: stretch;justify-content: center;background-color: white;}#sk-d4fe0f4a-4c96-4172-ae80-243822f99c85 div.sk-parallel::before {content: \"\";position: absolute;border-left: 1px solid gray;box-sizing: border-box;top: 2em;bottom: 0;left: 50%;}#sk-d4fe0f4a-4c96-4172-ae80-243822f99c85 div.sk-parallel-item {display: flex;flex-direction: column;position: relative;background-color: white;}#sk-d4fe0f4a-4c96-4172-ae80-243822f99c85 div.sk-parallel-item:first-child::after {align-self: flex-end;width: 50%;}#sk-d4fe0f4a-4c96-4172-ae80-243822f99c85 div.sk-parallel-item:last-child::after {align-self: flex-start;width: 50%;}#sk-d4fe0f4a-4c96-4172-ae80-243822f99c85 div.sk-parallel-item:only-child::after {width: 0;}#sk-d4fe0f4a-4c96-4172-ae80-243822f99c85 div.sk-dashed-wrapped {border: 1px dashed gray;margin: 0 0.4em 0.5em 0.4em;box-sizing: border-box;padding-bottom: 0.4em;background-color: white;position: relative;}#sk-d4fe0f4a-4c96-4172-ae80-243822f99c85 div.sk-label label {font-family: monospace;font-weight: bold;background-color: white;display: inline-block;line-height: 1.2em;}#sk-d4fe0f4a-4c96-4172-ae80-243822f99c85 div.sk-label-container {position: relative;z-index: 2;text-align: center;}#sk-d4fe0f4a-4c96-4172-ae80-243822f99c85 div.sk-container {display: inline-block;position: relative;}</style><div id=\"sk-d4fe0f4a-4c96-4172-ae80-243822f99c85\" class\"sk-top-container\"><div class=\"sk-container\"><div class=\"sk-item sk-dashed-wrapped\"><div class=\"sk-label-container\"><div class=\"sk-label sk-toggleable\"><input class=\"sk-toggleable__control sk-hidden--visually\" id=\"62b4ef37-0bc0-46f3-9a3d-99a9e53461fd\" type=\"checkbox\" ><label class=\"sk-toggleable__label\" for=\"62b4ef37-0bc0-46f3-9a3d-99a9e53461fd\">Pipeline</label><div class=\"sk-toggleable__content\"><pre>Pipeline(steps=[('prep_proc',\n",
              "                 ColumnTransformer(transformers=[('impute_0',\n",
              "                                                  Pipeline(steps=[('imputer',\n",
              "                                                                   SimpleImputer(fill_value=0,\n",
              "                                                                                 strategy='constant')),\n",
              "                                                                  ('scaler',\n",
              "                                                                   StandardScaler())]),\n",
              "                                                  ['NRS_pain']),\n",
              "                                                 ('impute_mean',\n",
              "                                                  Pipeline(steps=[('imputer',\n",
              "                                                                   SimpleImputer()),\n",
              "                                                                  ('scaler',\n",
              "                                                                   StandardScaler())]),\n",
              "                                                  ['SBP', 'DBP', 'HR', 'RR',\n",
              "                                                   'BT', 'Saturation']),\n",
              "                                                 ('cv_complains',\n",
              "                                                  Pipeline(...\n",
              "                                                                   TruncatedSVD(n_components=120))]),\n",
              "                                                  'Cheif_Complain_Translated'),\n",
              "                                                 ('cv_diagnosis',\n",
              "                                                  Pipeline(steps=[('cvec',\n",
              "                                                                   CountVectorizer()),\n",
              "                                                                  ('lsa',\n",
              "                                                                   TruncatedSVD(n_components=120))]),\n",
              "                                                  'Diagnosis in ED'),\n",
              "                                                 ('one_hot',\n",
              "                                                  OneHotEncoder(drop='first'),\n",
              "                                                  ['Group', 'Sex',\n",
              "                                                   'Arrival mode', 'Injury',\n",
              "                                                   'Pain']),\n",
              "                                                 ('scale_rest',\n",
              "                                                  StandardScaler(),\n",
              "                                                  ['Age',\n",
              "                                                   'Patients number per hour',\n",
              "                                                   'Mental'])])),\n",
              "                ('clf', LinearRegression())])</pre></div></div></div><div class=\"sk-serial\"><div class=\"sk-item sk-dashed-wrapped\"><div class=\"sk-label-container\"><div class=\"sk-label sk-toggleable\"><input class=\"sk-toggleable__control sk-hidden--visually\" id=\"8966024e-8b84-448a-8f5e-b25cf4808907\" type=\"checkbox\" ><label class=\"sk-toggleable__label\" for=\"8966024e-8b84-448a-8f5e-b25cf4808907\">prep_proc: ColumnTransformer</label><div class=\"sk-toggleable__content\"><pre>ColumnTransformer(transformers=[('impute_0',\n",
              "                                 Pipeline(steps=[('imputer',\n",
              "                                                  SimpleImputer(fill_value=0,\n",
              "                                                                strategy='constant')),\n",
              "                                                 ('scaler', StandardScaler())]),\n",
              "                                 ['NRS_pain']),\n",
              "                                ('impute_mean',\n",
              "                                 Pipeline(steps=[('imputer', SimpleImputer()),\n",
              "                                                 ('scaler', StandardScaler())]),\n",
              "                                 ['SBP', 'DBP', 'HR', 'RR', 'BT',\n",
              "                                  'Saturation']),\n",
              "                                ('cv_complains',\n",
              "                                 Pipeline(steps=[('cvec', CountVectorizer()),\n",
              "                                                 ('lsa',\n",
              "                                                  TruncatedSVD(n_components=120))]),\n",
              "                                 'Cheif_Complain_Translated'),\n",
              "                                ('cv_diagnosis',\n",
              "                                 Pipeline(steps=[('cvec', CountVectorizer()),\n",
              "                                                 ('lsa',\n",
              "                                                  TruncatedSVD(n_components=120))]),\n",
              "                                 'Diagnosis in ED'),\n",
              "                                ('one_hot', OneHotEncoder(drop='first'),\n",
              "                                 ['Group', 'Sex', 'Arrival mode', 'Injury',\n",
              "                                  'Pain']),\n",
              "                                ('scale_rest', StandardScaler(),\n",
              "                                 ['Age', 'Patients number per hour',\n",
              "                                  'Mental'])])</pre></div></div></div><div class=\"sk-parallel\"><div class=\"sk-parallel-item\"><div class=\"sk-item\"><div class=\"sk-label-container\"><div class=\"sk-label sk-toggleable\"><input class=\"sk-toggleable__control sk-hidden--visually\" id=\"aedb65f4-0344-4679-ba1d-f7d94e527a80\" type=\"checkbox\" ><label class=\"sk-toggleable__label\" for=\"aedb65f4-0344-4679-ba1d-f7d94e527a80\">impute_0</label><div class=\"sk-toggleable__content\"><pre>['NRS_pain']</pre></div></div></div><div class=\"sk-serial\"><div class=\"sk-item\"><div class=\"sk-serial\"><div class=\"sk-item\"><div class=\"sk-estimator sk-toggleable\"><input class=\"sk-toggleable__control sk-hidden--visually\" id=\"32c7513d-4534-406b-a6c2-8e213f471ba5\" type=\"checkbox\" ><label class=\"sk-toggleable__label\" for=\"32c7513d-4534-406b-a6c2-8e213f471ba5\">SimpleImputer</label><div class=\"sk-toggleable__content\"><pre>SimpleImputer(fill_value=0, strategy='constant')</pre></div></div></div><div class=\"sk-item\"><div class=\"sk-estimator sk-toggleable\"><input class=\"sk-toggleable__control sk-hidden--visually\" id=\"d251c1e1-639e-4f56-8558-73e85403b5a4\" type=\"checkbox\" ><label class=\"sk-toggleable__label\" for=\"d251c1e1-639e-4f56-8558-73e85403b5a4\">StandardScaler</label><div class=\"sk-toggleable__content\"><pre>StandardScaler()</pre></div></div></div></div></div></div></div></div><div class=\"sk-parallel-item\"><div class=\"sk-item\"><div class=\"sk-label-container\"><div class=\"sk-label sk-toggleable\"><input class=\"sk-toggleable__control sk-hidden--visually\" id=\"1a3d8523-45f3-4143-9347-03202ae0680d\" type=\"checkbox\" ><label class=\"sk-toggleable__label\" for=\"1a3d8523-45f3-4143-9347-03202ae0680d\">impute_mean</label><div class=\"sk-toggleable__content\"><pre>['SBP', 'DBP', 'HR', 'RR', 'BT', 'Saturation']</pre></div></div></div><div class=\"sk-serial\"><div class=\"sk-item\"><div class=\"sk-serial\"><div class=\"sk-item\"><div class=\"sk-estimator sk-toggleable\"><input class=\"sk-toggleable__control sk-hidden--visually\" id=\"967025b3-231c-4563-8f43-d407ed0db0b5\" type=\"checkbox\" ><label class=\"sk-toggleable__label\" for=\"967025b3-231c-4563-8f43-d407ed0db0b5\">SimpleImputer</label><div class=\"sk-toggleable__content\"><pre>SimpleImputer()</pre></div></div></div><div class=\"sk-item\"><div class=\"sk-estimator sk-toggleable\"><input class=\"sk-toggleable__control sk-hidden--visually\" id=\"3993d0bf-85f6-4283-8a44-e8950e40bf47\" type=\"checkbox\" ><label class=\"sk-toggleable__label\" for=\"3993d0bf-85f6-4283-8a44-e8950e40bf47\">StandardScaler</label><div class=\"sk-toggleable__content\"><pre>StandardScaler()</pre></div></div></div></div></div></div></div></div><div class=\"sk-parallel-item\"><div class=\"sk-item\"><div class=\"sk-label-container\"><div class=\"sk-label sk-toggleable\"><input class=\"sk-toggleable__control sk-hidden--visually\" id=\"58107585-9367-4ab5-9b33-700eb3ffffaf\" type=\"checkbox\" ><label class=\"sk-toggleable__label\" for=\"58107585-9367-4ab5-9b33-700eb3ffffaf\">cv_complains</label><div class=\"sk-toggleable__content\"><pre>Cheif_Complain_Translated</pre></div></div></div><div class=\"sk-serial\"><div class=\"sk-item\"><div class=\"sk-serial\"><div class=\"sk-item\"><div class=\"sk-estimator sk-toggleable\"><input class=\"sk-toggleable__control sk-hidden--visually\" id=\"2a7fdb08-5fe5-45a2-8bff-23e1b6c47e74\" type=\"checkbox\" ><label class=\"sk-toggleable__label\" for=\"2a7fdb08-5fe5-45a2-8bff-23e1b6c47e74\">CountVectorizer</label><div class=\"sk-toggleable__content\"><pre>CountVectorizer()</pre></div></div></div><div class=\"sk-item\"><div class=\"sk-estimator sk-toggleable\"><input class=\"sk-toggleable__control sk-hidden--visually\" id=\"923b4c21-62c7-435b-a61a-3a99eaa3dfae\" type=\"checkbox\" ><label class=\"sk-toggleable__label\" for=\"923b4c21-62c7-435b-a61a-3a99eaa3dfae\">TruncatedSVD</label><div class=\"sk-toggleable__content\"><pre>TruncatedSVD(n_components=120)</pre></div></div></div></div></div></div></div></div><div class=\"sk-parallel-item\"><div class=\"sk-item\"><div class=\"sk-label-container\"><div class=\"sk-label sk-toggleable\"><input class=\"sk-toggleable__control sk-hidden--visually\" id=\"950ca760-ffa4-4836-a79e-7856fef4c24e\" type=\"checkbox\" ><label class=\"sk-toggleable__label\" for=\"950ca760-ffa4-4836-a79e-7856fef4c24e\">cv_diagnosis</label><div class=\"sk-toggleable__content\"><pre>Diagnosis in ED</pre></div></div></div><div class=\"sk-serial\"><div class=\"sk-item\"><div class=\"sk-serial\"><div class=\"sk-item\"><div class=\"sk-estimator sk-toggleable\"><input class=\"sk-toggleable__control sk-hidden--visually\" id=\"975fed9d-7b2b-4262-b58b-fc1aa714c0f2\" type=\"checkbox\" ><label class=\"sk-toggleable__label\" for=\"975fed9d-7b2b-4262-b58b-fc1aa714c0f2\">CountVectorizer</label><div class=\"sk-toggleable__content\"><pre>CountVectorizer()</pre></div></div></div><div class=\"sk-item\"><div class=\"sk-estimator sk-toggleable\"><input class=\"sk-toggleable__control sk-hidden--visually\" id=\"f9fa9025-a23c-47f0-bfa9-c3cb19c52085\" type=\"checkbox\" ><label class=\"sk-toggleable__label\" for=\"f9fa9025-a23c-47f0-bfa9-c3cb19c52085\">TruncatedSVD</label><div class=\"sk-toggleable__content\"><pre>TruncatedSVD(n_components=120)</pre></div></div></div></div></div></div></div></div><div class=\"sk-parallel-item\"><div class=\"sk-item\"><div class=\"sk-label-container\"><div class=\"sk-label sk-toggleable\"><input class=\"sk-toggleable__control sk-hidden--visually\" id=\"9e5ac0de-1f6f-4660-98d5-4d3e174d3711\" type=\"checkbox\" ><label class=\"sk-toggleable__label\" for=\"9e5ac0de-1f6f-4660-98d5-4d3e174d3711\">one_hot</label><div class=\"sk-toggleable__content\"><pre>['Group', 'Sex', 'Arrival mode', 'Injury', 'Pain']</pre></div></div></div><div class=\"sk-serial\"><div class=\"sk-item\"><div class=\"sk-estimator sk-toggleable\"><input class=\"sk-toggleable__control sk-hidden--visually\" id=\"bc61444c-a13e-4e6c-a764-63e35cb58786\" type=\"checkbox\" ><label class=\"sk-toggleable__label\" for=\"bc61444c-a13e-4e6c-a764-63e35cb58786\">OneHotEncoder</label><div class=\"sk-toggleable__content\"><pre>OneHotEncoder(drop='first')</pre></div></div></div></div></div></div><div class=\"sk-parallel-item\"><div class=\"sk-item\"><div class=\"sk-label-container\"><div class=\"sk-label sk-toggleable\"><input class=\"sk-toggleable__control sk-hidden--visually\" id=\"0621791b-7190-4ad4-b9e1-4045013b87d9\" type=\"checkbox\" ><label class=\"sk-toggleable__label\" for=\"0621791b-7190-4ad4-b9e1-4045013b87d9\">scale_rest</label><div class=\"sk-toggleable__content\"><pre>['Age', 'Patients number per hour', 'Mental']</pre></div></div></div><div class=\"sk-serial\"><div class=\"sk-item\"><div class=\"sk-estimator sk-toggleable\"><input class=\"sk-toggleable__control sk-hidden--visually\" id=\"07d59265-4949-415a-a740-8a7ba332a0e3\" type=\"checkbox\" ><label class=\"sk-toggleable__label\" for=\"07d59265-4949-415a-a740-8a7ba332a0e3\">StandardScaler</label><div class=\"sk-toggleable__content\"><pre>StandardScaler()</pre></div></div></div></div></div></div></div></div><div class=\"sk-item\"><div class=\"sk-estimator sk-toggleable\"><input class=\"sk-toggleable__control sk-hidden--visually\" id=\"18a1d1a9-c180-4c14-9e68-58f6545b1ef1\" type=\"checkbox\" ><label class=\"sk-toggleable__label\" for=\"18a1d1a9-c180-4c14-9e68-58f6545b1ef1\">LinearRegression</label><div class=\"sk-toggleable__content\"><pre>LinearRegression()</pre></div></div></div></div></div></div></div>"
            ],
            "text/plain": [
              "Pipeline(steps=[('prep_proc',\n",
              "                 ColumnTransformer(transformers=[('impute_0',\n",
              "                                                  Pipeline(steps=[('imputer',\n",
              "                                                                   SimpleImputer(fill_value=0,\n",
              "                                                                                 strategy='constant')),\n",
              "                                                                  ('scaler',\n",
              "                                                                   StandardScaler())]),\n",
              "                                                  ['NRS_pain']),\n",
              "                                                 ('impute_mean',\n",
              "                                                  Pipeline(steps=[('imputer',\n",
              "                                                                   SimpleImputer()),\n",
              "                                                                  ('scaler',\n",
              "                                                                   StandardScaler())]),\n",
              "                                                  ['SBP', 'DBP', 'HR', 'RR',\n",
              "                                                   'BT', 'Saturation']),\n",
              "                                                 ('cv_complains',\n",
              "                                                  Pipeline(...\n",
              "                                                                   TruncatedSVD(n_components=120))]),\n",
              "                                                  'Cheif_Complain_Translated'),\n",
              "                                                 ('cv_diagnosis',\n",
              "                                                  Pipeline(steps=[('cvec',\n",
              "                                                                   CountVectorizer()),\n",
              "                                                                  ('lsa',\n",
              "                                                                   TruncatedSVD(n_components=120))]),\n",
              "                                                  'Diagnosis in ED'),\n",
              "                                                 ('one_hot',\n",
              "                                                  OneHotEncoder(drop='first'),\n",
              "                                                  ['Group', 'Sex',\n",
              "                                                   'Arrival mode', 'Injury',\n",
              "                                                   'Pain']),\n",
              "                                                 ('scale_rest',\n",
              "                                                  StandardScaler(),\n",
              "                                                  ['Age',\n",
              "                                                   'Patients number per hour',\n",
              "                                                   'Mental'])])),\n",
              "                ('clf', LinearRegression())])"
            ]
          },
          "metadata": {},
          "execution_count": 78
        }
      ]
    },
    {
      "cell_type": "code",
      "metadata": {
        "id": "6n1pK_3JT6rU",
        "colab": {
          "base_uri": "https://localhost:8080/"
        },
        "outputId": "8b564cf8-a5a6-4393-bd31-3fdfa2b3b384"
      },
      "source": [
        "from sklearn.linear_model import Ridge\n",
        "\n",
        "rig = Ridge()\n",
        "\n",
        "pipe_rig = Pipeline([\n",
        "    ('prep_proc', pre_proc_cols),\n",
        "    ('clf', rig)\n",
        "])\n",
        "\n",
        "rig_params = {}\n",
        "rig_params['clf__alpha'] = [0.001, 0.01, 0.1, 1.0, 10]\n",
        "\n",
        "rig_grid = GridSearchCV(pipe_rig, rig_params, cv=10, scoring=triage_score)\n",
        "rig_grid.fit(X_train, y_train)\n",
        "\n",
        "rig_res = pd.DataFrame(rig_grid.cv_results_)[['param_clf__alpha', 'mean_test_score']]\n",
        "rig_res.to_csv('ridge_params_vs_score.csv')\n",
        "\n",
        "print('Best Score:')\n",
        "print(rig_grid.best_score_)\n",
        "print('Best Params:')\n",
        "print(rig_grid.best_params_)\n",
        "print('Accuracy on test set:')\n",
        "print(triage_score(rig_grid, X_test, y_test))\n",
        "\n",
        "y_pred = rig_grid.predict(X_test)\n",
        "\n",
        "prec_recall_f1 = triage_precision_recall_f1(y_test, y_pred)\n",
        "print('Classwise weak precision:')\n",
        "print(prec_recall_f1[0])\n",
        "print('Classwise weak recall:')\n",
        "print(prec_recall_f1[1])\n",
        "print('Classwise weak f1-score:')\n",
        "print(prec_recall_f1[2])\n",
        "print('Mean weak precision:')\n",
        "print(prec_recall_f1[3]['mean precision'])\n",
        "print('Mean weak recall:')\n",
        "print(prec_recall_f1[3]['mean recall'])\n",
        "print('Mean weak f1-score:')\n",
        "print(prec_recall_f1[3]['mean f1'])\n",
        "\n",
        "\n"
      ],
      "execution_count": null,
      "outputs": [
        {
          "output_type": "stream",
          "name": "stdout",
          "text": [
            "Best Score:\n",
            "0.9585434173669467\n",
            "Best Params:\n",
            "{'clf__alpha': 1.0}\n",
            "Accuracy on test set:\n",
            "0.9664268585131894\n",
            "Classwise weak precision:\n",
            "{1: 0.7333333333333334, 2: 1.1999999999999997, 3: 0.8294117647058828, 4: 0.6052356020942413, 5: 0.47142857142857153}\n",
            "Classwise weak recall:\n",
            "{1: 0.4, 2: 0.6646153846153844, 3: 0.8392857142857147, 4: 0.7655629139072854, 5: 0.30000000000000004}\n",
            "Classwise weak f1-score:\n",
            "{1: 0.5176470588235296, 2: 0.8554455445544552, 3: 0.8343195266272193, 4: 0.6760233918128661, 5: 0.36666666666666675}\n",
            "Mean weak precision:\n",
            "0.7678818543124057\n",
            "Mean weak recall:\n",
            "0.593892802561677\n",
            "Mean weak f1-score:\n",
            "0.6500204376969474\n"
          ]
        }
      ]
    },
    {
      "cell_type": "code",
      "metadata": {
        "id": "DAhxaDiVT6oh",
        "colab": {
          "base_uri": "https://localhost:8080/"
        },
        "outputId": "b281a09e-b745-4a44-c611-310345fa0880"
      },
      "source": [
        "from sklearn.linear_model import Lasso\n",
        "\n",
        "las = Lasso()\n",
        "\n",
        "pipe_las = Pipeline([\n",
        "    ('prep_proc', pre_proc_cols),\n",
        "    ('clf', las)\n",
        "])\n",
        "\n",
        "las_params = {}\n",
        "las_params['clf__alpha'] = [0.001, 0.01, 0.1, 1.0, 10]\n",
        "\n",
        "las_grid = GridSearchCV(pipe_las, las_params, cv=10, scoring=triage_score)\n",
        "las_grid.fit(X_train, y_train)\n",
        "\n",
        "las_res = pd.DataFrame(las_grid.cv_results_)[['param_clf__alpha', 'mean_test_score']]\n",
        "las_res.to_csv('lasso_params_vs_score.csv')\n",
        "\n",
        "print('Best Score:')\n",
        "print(las_grid.best_score_)\n",
        "print('Best Params:')\n",
        "print(las_grid.best_params_)\n",
        "print('Accuracy on test set:')\n",
        "print(triage_score(las_grid, X_test, y_test))\n",
        "\n",
        "y_pred = las_grid.predict(X_test)\n",
        "\n",
        "prec_recall_f1 = triage_precision_recall_f1(y_test, y_pred)\n",
        "print('Classwise weak precision:')\n",
        "print(prec_recall_f1[0])\n",
        "print('Classwise weak recall:')\n",
        "print(prec_recall_f1[1])\n",
        "print('Classwise weak f1-score:')\n",
        "print(prec_recall_f1[2])\n",
        "print('Mean weak precision:')\n",
        "print(prec_recall_f1[3]['mean precision'])\n",
        "print('Mean weak recall:')\n",
        "print(prec_recall_f1[3]['mean recall'])\n",
        "print('Mean weak f1-score:')\n",
        "print(prec_recall_f1[3]['mean f1'])\n"
      ],
      "execution_count": null,
      "outputs": [
        {
          "output_type": "stream",
          "name": "stdout",
          "text": [
            "Best Score:\n",
            "0.9550420168067226\n",
            "Best Params:\n",
            "{'clf__alpha': 0.001}\n",
            "Accuracy on test set:\n",
            "0.9664268585131894\n",
            "Classwise weak precision:\n",
            "{1: 0.8285714285714286, 2: 1.413793103448275, 3: 0.8188888888888894, 4: 0.5863874345549744, 5: 0.5200000000000001}\n",
            "Classwise weak recall:\n",
            "{1: 0.5272727272727273, 2: 0.6307692307692303, 3: 0.8773809523809529, 4: 0.7417218543046367, 5: 0.23636363636363641}\n",
            "Classwise weak f1-score:\n",
            "{1: 0.6444444444444445, 2: 0.8723404255319143, 3: 0.8471264367816098, 4: 0.6549707602339189, 5: 0.32500000000000007}\n",
            "Mean weak precision:\n",
            "0.8335281710927136\n",
            "Mean weak recall:\n",
            "0.6027016802182367\n",
            "Mean weak f1-score:\n",
            "0.6687764133983776\n"
          ]
        }
      ]
    },
    {
      "cell_type": "code",
      "metadata": {
        "id": "91sf5V_7T6lz",
        "colab": {
          "base_uri": "https://localhost:8080/"
        },
        "outputId": "17a925b8-2644-4ee4-b73b-6b8a8ffc56dc"
      },
      "source": [
        "from sklearn.linear_model import SGDClassifier\n",
        "\n",
        "sgd = SGDClassifier(max_iter=20000)\n",
        "\n",
        "pipe_sgd = Pipeline([\n",
        "    ('prep_proc', pre_proc_cols),\n",
        "    ('clf', sgd)\n",
        "])\n",
        "\n",
        "sgd_params = {}\n",
        "\n",
        "sgd_grid = GridSearchCV(pipe_sgd, sgd_params, cv=10, scoring=triage_score)\n",
        "sgd_grid.fit(X_train, y_train)\n",
        "\n",
        "print('Best Score:')\n",
        "print(sgd_grid.best_score_)\n",
        "print('Best Params:')\n",
        "print(sgd_grid.best_params_)\n",
        "print('Accuracy on test set:')\n",
        "print(triage_score(sgd_grid, X_test, y_test))\n",
        "\n",
        "y_pred = sgd_grid.predict(X_test)\n",
        "\n",
        "prec_recall_f1 = triage_precision_recall_f1(y_test, y_pred)\n",
        "print('Classwise weak precision:')\n",
        "print(prec_recall_f1[0])\n",
        "print('Classwise weak recall:')\n",
        "print(prec_recall_f1[1])\n",
        "print('Classwise weak f1-score:')\n",
        "print(prec_recall_f1[2])\n",
        "print('Mean weak precision:')\n",
        "print(prec_recall_f1[3]['mean precision'])\n",
        "print('Mean weak recall:')\n",
        "print(prec_recall_f1[3]['mean recall'])\n",
        "print('Mean weak f1-score:')\n",
        "print(prec_recall_f1[3]['mean f1'])"
      ],
      "execution_count": null,
      "outputs": [
        {
          "output_type": "stream",
          "name": "stdout",
          "text": [
            "Best Score:\n",
            "0.9136554621848738\n",
            "Best Params:\n",
            "{}\n",
            "Accuracy on test set:\n",
            "0.9520383693045563\n",
            "Classwise weak precision:\n",
            "{1: 1.24, 2: 0.6049999999999998, 3: 0.6460674157303373, 4: 0.671830985915493, 5: 0.3333333333333333}\n",
            "Classwise weak recall:\n",
            "{1: 0.5636363636363636, 2: 0.7446153846153842, 3: 0.6845238095238098, 4: 0.6317880794701987, 5: 0.18181818181818182}\n",
            "Classwise weak f1-score:\n",
            "{1: 0.7749999999999999, 2: 0.6675862068965515, 3: 0.6647398843930639, 4: 0.6511945392491467, 5: 0.23529411764705885}\n",
            "Mean weak precision:\n",
            "0.6992463469958327\n",
            "Mean weak recall:\n",
            "0.5612763638127876\n",
            "Mean weak f1-score:\n",
            "0.5987629496371643\n"
          ]
        }
      ]
    },
    {
      "cell_type": "code",
      "metadata": {
        "id": "Bh7GoA8OT6jA",
        "colab": {
          "base_uri": "https://localhost:8080/"
        },
        "outputId": "0dce3b12-2a63-41d7-b66a-87cfe8736040"
      },
      "source": [
        "from sklearn.svm import SVR\n",
        "\n",
        "svr = SVR()\n",
        "\n",
        "pipe_svr = Pipeline([\n",
        "    ('prep_proc', pre_proc_cols),\n",
        "    ('clf', svr)\n",
        "])\n",
        "\n",
        "svr_params = {}\n",
        "svr_params['clf__kernel'] = [ 'poly', 'rbf', 'sigmoid']\n",
        "svr_params['clf__C'] = [0.01, 0.1, 1.0, 10, 100]\n",
        "\n",
        "\n",
        "svr_grid = GridSearchCV(pipe_svr, svr_params, cv=10, scoring=triage_score)\n",
        "svr_grid.fit(X_train, y_train)\n",
        "\n",
        "svr_res = pd.DataFrame(svr_grid.cv_results_)[['param_clf__C', 'param_clf__kernel', 'mean_test_score']]\n",
        "svr_res.to_csv('SVR_params_vs_score.csv')\n",
        "\n",
        "print('Best Score:')\n",
        "print(svr_grid.best_score_)\n",
        "print('Best Params:')\n",
        "print(svr_grid.best_params_)\n",
        "print('Accuracy on test set:')\n",
        "print(triage_score(svr_grid, X_test, y_test))\n",
        "\n",
        "y_pred = svr_grid.predict(X_test)\n",
        "\n",
        "prec_recall_f1 = triage_precision_recall_f1(y_test, y_pred)\n",
        "print('Classwise weak precision:')\n",
        "print(prec_recall_f1[0])\n",
        "print('Classwise weak recall:')\n",
        "print(prec_recall_f1[1])\n",
        "print('Classwise weak f1-score:')\n",
        "print(prec_recall_f1[2])\n",
        "print('Mean weak precision:')\n",
        "print(prec_recall_f1[3]['mean precision'])\n",
        "print('Mean weak recall:')\n",
        "print(prec_recall_f1[3]['mean recall'])\n",
        "print('Mean weak f1-score:')\n",
        "print(prec_recall_f1[3]['mean f1'])"
      ],
      "execution_count": null,
      "outputs": [
        {
          "output_type": "stream",
          "name": "stdout",
          "text": [
            "Best Score:\n",
            "0.9515126050420168\n",
            "Best Params:\n",
            "{'clf__C': 10, 'clf__kernel': 'rbf'}\n",
            "Accuracy on test set:\n",
            "0.9496402877697842\n",
            "Classwise weak precision:\n",
            "{1: 1.0666666666666667, 2: 1.2342857142857135, 3: 0.7754189944134086, 4: 0.591666666666667, 5: 0.55}\n",
            "Classwise weak recall:\n",
            "{1: 0.29090909090909095, 2: 0.6646153846153843, 3: 0.8261904761904769, 4: 0.7523178807947024, 5: 0.2}\n",
            "Classwise weak f1-score:\n",
            "{1: 0.4571428571428572, 2: 0.8639999999999995, 3: 0.8000000000000007, 4: 0.6623906705539362, 5: 0.2933333333333334}\n",
            "Mean weak precision:\n",
            "0.8436076084064912\n",
            "Mean weak recall:\n",
            "0.546806566501931\n",
            "Mean weak f1-score:\n",
            "0.6153733722060254\n"
          ]
        }
      ]
    },
    {
      "cell_type": "code",
      "metadata": {
        "id": "N3EBT0VdT6gU",
        "colab": {
          "base_uri": "https://localhost:8080/"
        },
        "outputId": "1c366b85-66ac-4556-88f7-af2399328283"
      },
      "source": [
        "from sklearn.neighbors import KNeighborsRegressor\n",
        "\n",
        "knn = KNeighborsRegressor()\n",
        "\n",
        "pipe_knn = Pipeline([\n",
        "    ('prep_proc', pre_proc_cols),\n",
        "    ('clf', knn)\n",
        "])\n",
        "\n",
        "knn_params = {}\n",
        "knn_params['clf__n_neighbors'] = [3, 5, 7]\n",
        "knn_params['clf__weights'] = ['uniform', 'distance']\n",
        "\n",
        "knn_grid = GridSearchCV(pipe_knn, knn_params, cv=10, scoring=triage_score)\n",
        "knn_grid.fit(X_train, y_train)\n",
        "\n",
        "knn_res = pd.DataFrame(knn_grid.cv_results_)[['param_clf__n_neighbors', 'param_clf__weights', 'mean_test_score']]\n",
        "knn_res.to_csv('knn_params_vs_score.csv')\n",
        "\n",
        "print('Best Score:')\n",
        "print(knn_grid.best_score_)\n",
        "print('Best Params:')\n",
        "print(knn_grid.best_params_)\n",
        "print('Accuracy on test set:')\n",
        "print(triage_score(knn_grid, X_test, y_test))\n",
        "\n",
        "y_pred = knn_grid.predict(X_test)\n",
        "\n",
        "prec_recall_f1 = triage_precision_recall_f1(y_test, y_pred)\n",
        "print('Classwise weak precision:')\n",
        "print(prec_recall_f1[0])\n",
        "print('Classwise weak recall:')\n",
        "print(prec_recall_f1[1])\n",
        "print('Classwise weak f1-score:')\n",
        "print(prec_recall_f1[2])\n",
        "print('Mean weak precision:')\n",
        "print(prec_recall_f1[3]['mean precision'])\n",
        "print('Mean weak recall:')\n",
        "print(prec_recall_f1[3]['mean recall'])\n",
        "print('Mean weak f1-score:')\n",
        "print(prec_recall_f1[3]['mean f1'])"
      ],
      "execution_count": null,
      "outputs": [
        {
          "output_type": "stream",
          "name": "stdout",
          "text": [
            "Best Score:\n",
            "0.9349439775910364\n",
            "Best Params:\n",
            "{'clf__n_neighbors': 7, 'clf__weights': 'uniform'}\n",
            "Accuracy on test set:\n",
            "0.9424460431654677\n",
            "Classwise weak precision:\n",
            "{1: 1.35, 2: 2.0588235294117645, 3: 0.9687074829931979, 4: 0.4008064516129036, 5: 0.6000000000000001}\n",
            "Classwise weak recall:\n",
            "{1: 0.49090909090909096, 2: 0.5384615384615383, 3: 0.8476190476190482, 4: 0.6582781456953649, 5: 0.02727272727272728}\n",
            "Classwise weak f1-score:\n",
            "{1: 0.7200000000000001, 2: 0.8536585365853657, 3: 0.9041269841269847, 4: 0.49824561403508827, 5: 0.05217391304347827}\n",
            "Mean weak precision:\n",
            "1.0756674928035732\n",
            "Mean weak recall:\n",
            "0.5125081099915539\n",
            "Mean weak f1-score:\n",
            "0.6056410095581835\n"
          ]
        }
      ]
    },
    {
      "cell_type": "code",
      "metadata": {
        "id": "9NUQu8SgT6a4",
        "colab": {
          "base_uri": "https://localhost:8080/"
        },
        "outputId": "5d14cad8-f84d-4e7e-a5a8-ae24b1025460"
      },
      "source": [
        "from sklearn.cross_decomposition import PLSRegression\n",
        "\n",
        "pls = PLSRegression()\n",
        "\n",
        "pipe_pls = Pipeline([\n",
        "    ('prep_proc', pre_proc_cols),\n",
        "    ('clf', pls)\n",
        "])\n",
        "\n",
        "pls_params = {}\n",
        "pls_params['clf__n_components'] = [1, 2, 5, 10, 15]\n",
        "\n",
        "pls_grid = GridSearchCV(pipe_pls, pls_params, cv=10, scoring=triage_score)\n",
        "\n",
        "pls_grid.fit(X_train, y_train)\n",
        "\n",
        "print('Best Score:')\n",
        "print(pls_grid.best_score_)\n",
        "print('Best Params:')\n",
        "print(pls_grid.best_params_)\n",
        "print('Accuracy on test set:')\n",
        "print(triage_score(pls_grid, X_test, y_test))\n",
        "\n",
        "y_pred = pls_grid.predict(X_test)\n",
        "\n",
        "prec_recall_f1 = triage_precision_recall_f1(y_test, y_pred)\n",
        "print('Classwise weak precision:')\n",
        "print(prec_recall_f1[0])\n",
        "print('Classwise weak recall:')\n",
        "print(prec_recall_f1[1])\n",
        "print('Classwise weak f1-score:')\n",
        "print(prec_recall_f1[2])\n",
        "print('Mean weak precision:')\n",
        "print(prec_recall_f1[3]['mean precision'])\n",
        "print('Mean weak recall:')\n",
        "print(prec_recall_f1[3]['mean recall'])\n",
        "print('Mean weak f1-score:')\n",
        "print(prec_recall_f1[3]['mean f1'])"
      ],
      "execution_count": null,
      "outputs": [
        {
          "output_type": "stream",
          "name": "stdout",
          "text": [
            "Best Score:\n",
            "0.9550420168067226\n",
            "Best Params:\n",
            "{'clf__n_components': 2}\n",
            "Accuracy on test set:\n",
            "0.9664268585131894\n",
            "Classwise weak precision:\n",
            "{1: 0.8400000000000001, 2: 1.2666666666666662, 3: 0.7817204301075272, 4: 0.5551912568306018, 5: 0.42000000000000004}\n",
            "Classwise weak recall:\n",
            "{1: 0.38181818181818183, 2: 0.6430769230769228, 3: 0.8654761904761908, 4: 0.6728476821192061, 5: 0.19090909090909092}\n",
            "Classwise weak f1-score:\n",
            "{1: 0.525, 2: 0.8530612244897956, 3: 0.8214689265536728, 4: 0.6083832335329349, 5: 0.2625}\n",
            "Mean weak precision:\n",
            "0.7727156707209591\n",
            "Mean weak recall:\n",
            "0.5508256136799184\n",
            "Mean weak f1-score:\n",
            "0.6140826769152807\n"
          ]
        }
      ]
    },
    {
      "cell_type": "code",
      "metadata": {
        "id": "nyFDbIxGT6YR",
        "colab": {
          "base_uri": "https://localhost:8080/"
        },
        "outputId": "8d9dfa49-5a4e-467e-a438-3674b349d811"
      },
      "source": [
        "from sklearn.linear_model import BayesianRidge\n",
        "\n",
        "brg = BayesianRidge()\n",
        "\n",
        "pipe_brg = Pipeline([\n",
        "    ('prep_proc', pre_proc_cols),\n",
        "    ('clf', brg)\n",
        "])\n",
        "\n",
        "brg_params = {}\n",
        "\n",
        "brg_grid = GridSearchCV(pipe_brg, brg_params, cv=10, scoring=triage_score)\n",
        "brg_grid.fit(X_train, y_train)\n",
        "\n",
        "print('Best Score:')\n",
        "print(brg_grid.best_score_)\n",
        "print('Best Params:')\n",
        "print(brg_grid.best_params_)\n",
        "print('Accuracy on test set:')\n",
        "print(triage_score(brg_grid, X_test, y_test))\n",
        "\n",
        "y_pred = brg_grid.predict(X_test)\n",
        "\n",
        "prec_recall_f1 = triage_precision_recall_f1(y_test, y_pred)\n",
        "print('Classwise weak precision:')\n",
        "print(prec_recall_f1[0])\n",
        "print('Classwise weak recall:')\n",
        "print(prec_recall_f1[1])\n",
        "print('Classwise weak f1-score:')\n",
        "print(prec_recall_f1[2])\n",
        "print('Mean weak precision:')\n",
        "print(prec_recall_f1[3]['mean precision'])\n",
        "print('Mean weak recall:')\n",
        "print(prec_recall_f1[3]['mean recall'])\n",
        "print('Mean weak f1-score:')\n",
        "print(prec_recall_f1[3]['mean f1'])"
      ],
      "execution_count": null,
      "outputs": [
        {
          "output_type": "stream",
          "name": "stdout",
          "text": [
            "Best Score:\n",
            "0.9573949579831931\n",
            "Best Params:\n",
            "{}\n",
            "Accuracy on test set:\n",
            "0.9616306954436451\n",
            "Classwise weak precision:\n",
            "{1: 0.7714285714285715, 2: 1.699999999999999, 3: 0.8010989010989015, 4: 0.547524752475248, 5: 1.4000000000000001}\n",
            "Classwise weak recall:\n",
            "{1: 0.49090909090909096, 2: 0.6276923076923073, 3: 0.8678571428571432, 4: 0.7324503311258285, 5: 0.1272727272727273}\n",
            "Classwise weak f1-score:\n",
            "{1: 0.6, 2: 0.9168539325842693, 3: 0.8331428571428574, 4: 0.6266288951841364, 5: 0.23333333333333336}\n",
            "Mean weak precision:\n",
            "1.044010445000544\n",
            "Mean weak recall:\n",
            "0.5692363199714194\n",
            "Mean weak f1-score:\n",
            "0.6419918036489192\n"
          ]
        }
      ]
    },
    {
      "cell_type": "code",
      "metadata": {
        "id": "jXRzpQgLT6Vk",
        "colab": {
          "base_uri": "https://localhost:8080/"
        },
        "outputId": "820a8c5b-8a30-43b6-b29c-381a9b6bad7e"
      },
      "source": [
        "from sklearn.tree import DecisionTreeRegressor\n",
        "\n",
        "dtr = DecisionTreeRegressor()\n",
        "\n",
        "pipe_dtr = Pipeline([\n",
        "    ('prep_proc', pre_proc_cols),\n",
        "    ('clf', dtr)\n",
        "])\n",
        "\n",
        "dtr_params = {}\n",
        "dtr_params['clf__criterion'] = ['squared_error', 'friedman_mse']\n",
        "dtr_params['clf__splitter'] = ['best', 'random']\n",
        "\n",
        "dtr_grid = GridSearchCV(pipe_dtr, dtr_params, cv=10, scoring=triage_score)\n",
        "dtr_grid.fit(X_train, y_train)\n",
        "\n",
        "dtr_res = pd.DataFrame(dtr_grid.cv_results_)[['param_clf__splitter', 'param_clf__criterion', 'mean_test_score']]\n",
        "dtr_res.to_csv('dtr_params_vs_score.csv')\n",
        "\n",
        "print('Best Score:')\n",
        "print(dtr_grid.best_score_)\n",
        "print('Best Params:')\n",
        "print(dtr_grid.best_params_)\n",
        "print('Accuracy on test set:')\n",
        "print(triage_score(dtr_grid, X_test, y_test))\n",
        "\n",
        "y_pred = dtr_grid.predict(X_test)\n",
        "\n",
        "prec_recall_f1 = triage_precision_recall_f1(y_test, y_pred)\n",
        "print('Classwise weak precision:')\n",
        "print(prec_recall_f1[0])\n",
        "print('Classwise weak recall:')\n",
        "print(prec_recall_f1[1])\n",
        "print('Classwise weak f1-score:')\n",
        "print(prec_recall_f1[2])\n",
        "print('Mean weak precision:')\n",
        "print(prec_recall_f1[3]['mean precision'])\n",
        "print('Mean weak recall:')\n",
        "print(prec_recall_f1[3]['mean recall'])\n",
        "print('Mean weak f1-score:')\n",
        "print(prec_recall_f1[3]['mean f1'])"
      ],
      "execution_count": null,
      "outputs": [
        {
          "output_type": "stream",
          "name": "stdout",
          "text": [
            "Best Score:\n",
            "0.8970868347338936\n",
            "Best Params:\n",
            "{'clf__criterion': 'squared_error', 'clf__splitter': 'best'}\n",
            "Accuracy on test set:\n",
            "0.894484412470024\n",
            "Classwise weak precision:\n",
            "{1: 0.96, 2: 0.4819277108433733, 3: 0.6588235294117649, 4: 0.6080536912751677, 5: 0.37037037037037035}\n",
            "Classwise weak recall:\n",
            "{1: 0.43636363636363634, 2: 0.6153846153846152, 3: 0.6000000000000002, 4: 0.6, 5: 0.45454545454545453}\n",
            "Classwise weak f1-score:\n",
            "{1: 0.6, 2: 0.5405405405405403, 3: 0.6280373831775703, 4: 0.604, 5: 0.40816326530612246}\n",
            "Mean weak precision:\n",
            "0.6158350603801352\n",
            "Mean weak recall:\n",
            "0.5412587412587413\n",
            "Mean weak f1-score:\n",
            "0.5561482378048466\n"
          ]
        }
      ]
    },
    {
      "cell_type": "code",
      "metadata": {
        "id": "Hcdhq38LT5s7",
        "colab": {
          "base_uri": "https://localhost:8080/"
        },
        "outputId": "47c2fff4-d00f-4220-bf16-3473b2e942de"
      },
      "source": [
        "from sklearn.ensemble import RandomForestRegressor\n",
        "\n",
        "rft = RandomForestRegressor()\n",
        "\n",
        "pipe_rft = Pipeline([\n",
        "    ('prep_proc', pre_proc_cols),\n",
        "    ('clf', rft)\n",
        "])\n",
        "\n",
        "rft_params = {}\n",
        "rft_params['clf__n_estimators'] = [20, 50, 80, 100, 150, 200]\n",
        "rft_params['clf__max_depth'] = [None, 3, 10, 20, 30]\n",
        "\n",
        "rft_grid = GridSearchCV(pipe_rft, rft_params, cv=10, scoring=triage_score)\n",
        "rft_grid.fit(X_train, y_train)\n",
        "\n",
        "rft_res = pd.DataFrame(rft_grid.cv_results_)[['param_clf__n_estimators', 'param_clf__max_depth', 'mean_test_score']]\n",
        "rft_res.to_csv('rft_params_vs_score.csv')\n",
        "\n",
        "print('Best Score:')\n",
        "print(rft_grid.best_score_)\n",
        "print('Best Params:')\n",
        "print(rft_grid.best_params_)\n",
        "print('Accuracy on test set:')\n",
        "print(triage_score(rft_grid, X_test, y_test))\n",
        "\n",
        "y_pred = rft_grid.predict(X_test)\n",
        "\n",
        "prec_recall_f1 = triage_precision_recall_f1(y_test, y_pred)\n",
        "print('Classwise weak precision:')\n",
        "print(prec_recall_f1[0])\n",
        "print('Classwise weak recall:')\n",
        "print(prec_recall_f1[1])\n",
        "print('Classwise weak f1-score:')\n",
        "print(prec_recall_f1[2])\n",
        "print('Mean weak precision:')\n",
        "print(prec_recall_f1[3]['mean precision'])\n",
        "print('Mean weak recall:')\n",
        "print(prec_recall_f1[3]['mean recall'])\n",
        "print('Mean weak f1-score:')\n",
        "print(prec_recall_f1[3]['mean f1'])"
      ],
      "execution_count": null,
      "outputs": [
        {
          "output_type": "stream",
          "name": "stdout",
          "text": [
            "Best Score:\n",
            "0.9527030812324929\n",
            "Best Params:\n",
            "{'clf__max_depth': None, 'clf__n_estimators': 200}\n",
            "Accuracy on test set:\n",
            "0.9616306954436451\n",
            "Classwise weak precision:\n",
            "{1: 1.05, 2: 1.3214285714285707, 3: 0.7729729729729734, 4: 0.5628140703517595, 5: 1.4}\n",
            "Classwise weak recall:\n",
            "{1: 0.38181818181818183, 2: 0.5692307692307689, 3: 0.8511904761904767, 4: 0.7417218543046367, 5: 0.06363636363636363}\n",
            "Classwise weak f1-score:\n",
            "{1: 0.56, 2: 0.7956989247311822, 3: 0.8101983002832864, 4: 0.6400000000000008, 5: 0.1217391304347826}\n",
            "Mean weak precision:\n",
            "1.0214431229506609\n",
            "Mean weak recall:\n",
            "0.5215195290360854\n",
            "Mean weak f1-score:\n",
            "0.5855272710898504\n"
          ]
        }
      ]
    },
    {
      "cell_type": "code",
      "metadata": {
        "id": "oCDpAG4josxJ",
        "colab": {
          "base_uri": "https://localhost:8080/"
        },
        "outputId": "610f675d-784f-42cc-be7f-0e6e6c967519"
      },
      "source": [
        "from sklearn.ensemble import AdaBoostRegressor\n",
        "from sklearn.tree import DecisionTreeRegressor  # for base estimator\n",
        "\n",
        "ada = AdaBoostRegressor()\n",
        "\n",
        "pipe_ada = Pipeline([\n",
        "    ('prep_proc', pre_proc_cols),\n",
        "    ('clf', ada)\n",
        "])\n",
        "\n",
        "ada_params = {}\n",
        "ada_params['clf__n_estimators'] = [50, 100, 150, 200]\n",
        "ada_params['clf__base_estimator'] = [DecisionTreeRegressor(max_depth=3), \n",
        "                                     DecisionTreeRegressor(max_depth=10), \n",
        "                                     DecisionTreeRegressor(max_depth=20)]\n",
        "\n",
        "ada_grid = GridSearchCV(pipe_ada, ada_params, cv=10, scoring=triage_score)\n",
        "ada_grid.fit(X_train, y_train)\n",
        "\n",
        "ada_res = pd.DataFrame(ada_grid.cv_results_)[['param_clf__n_estimators', 'param_clf__base_estimator', 'mean_test_score']]\n",
        "ada_res.to_csv('ada_params_vs_score.csv')\n",
        "\n",
        "print('Best Score:')\n",
        "print(ada_grid.best_score_)\n",
        "print('Best Params:')\n",
        "print(ada_grid.best_params_)\n",
        "print('Accuracy on test set:')\n",
        "print(triage_score(ada_grid, X_test, y_test))\n",
        "\n",
        "y_pred = ada_grid.predict(X_test)\n",
        "\n",
        "prec_recall_f1 = triage_precision_recall_f1(y_test, y_pred)\n",
        "print('Classwise weak precision:')\n",
        "print(prec_recall_f1[0])\n",
        "print('Classwise weak recall:')\n",
        "print(prec_recall_f1[1])\n",
        "print('Classwise weak f1-score:')\n",
        "print(prec_recall_f1[2])\n",
        "print('Mean weak precision:')\n",
        "print(prec_recall_f1[3]['mean precision'])\n",
        "print('Mean weak recall:')\n",
        "print(prec_recall_f1[3]['mean recall'])\n",
        "print('Mean weak f1-score:')\n",
        "print(prec_recall_f1[3]['mean f1'])"
      ],
      "execution_count": null,
      "outputs": [
        {
          "output_type": "stream",
          "name": "stdout",
          "text": [
            "Best Score:\n",
            "0.9657282913165265\n",
            "Best Params:\n",
            "{'clf__base_estimator': DecisionTreeRegressor(max_depth=10), 'clf__n_estimators': 100}\n",
            "Accuracy on test set:\n",
            "0.9640287769784173\n",
            "Classwise weak precision:\n",
            "{1: 1.05, 2: 1.0874999999999992, 3: 0.69795918367347, 4: 0.6099447513812158, 5: 0.5}\n",
            "Classwise weak recall:\n",
            "{1: 0.38181818181818183, 2: 0.535384615384615, 3: 0.8142857142857151, 4: 0.73112582781457, 5: 0.09090909090909091}\n",
            "Classwise weak f1-score:\n",
            "{1: 0.56, 2: 0.7175257731958757, 3: 0.7516483516483522, 4: 0.6650602409638559, 5: 0.15384615384615385}\n",
            "Mean weak precision:\n",
            "0.7890807870109371\n",
            "Mean weak recall:\n",
            "0.5107046860424346\n",
            "Mean weak f1-score:\n",
            "0.5696161039308476\n"
          ]
        }
      ]
    },
    {
      "cell_type": "code",
      "metadata": {
        "id": "GKclQpb_qPO0",
        "colab": {
          "base_uri": "https://localhost:8080/"
        },
        "outputId": "3cab14b7-0acf-4814-e7cb-eb8302fee7f2"
      },
      "source": [
        "from sklearn.ensemble import GradientBoostingRegressor\n",
        "\n",
        "gdb = GradientBoostingRegressor()\n",
        "\n",
        "pipe_gdb = Pipeline([\n",
        "    ('prep_proc', pre_proc_cols),\n",
        "    ('clf', gdb)\n",
        "])\n",
        "\n",
        "gdb_params = {}\n",
        "gdb_params['clf__learning_rate'] = [0.01, 0.1, 1]\n",
        "gdb_params['clf__n_estimators'] = [50, 100, 150, 200]\n",
        "\n",
        "gdb_grid = GridSearchCV(pipe_gdb, gdb_params, cv=10, scoring=triage_score)\n",
        "gdb_grid.fit(X_train, y_train)\n",
        "\n",
        "gdb_res = pd.DataFrame(gdb_grid.cv_results_)[['param_clf__n_estimators', 'param_clf__learning_rate', 'mean_test_score']]\n",
        "gdb_res.to_csv('gdb_params_vs_score.csv')\n",
        "\n",
        "print('Best Score:')\n",
        "print(gdb_grid.best_score_)\n",
        "print('Best Params:')\n",
        "print(gdb_grid.best_params_)\n",
        "print('Accuracy on test set:')\n",
        "print(triage_score(gdb_grid, X_test, y_test))\n",
        "\n",
        "y_pred = gdb_grid.predict(X_test)\n",
        "\n",
        "prec_recall_f1 = triage_precision_recall_f1(y_test, y_pred)\n",
        "print('Classwise weak precision:')\n",
        "print(prec_recall_f1[0])\n",
        "print('Classwise weak recall:')\n",
        "print(prec_recall_f1[1])\n",
        "print('Classwise weak f1-score:')\n",
        "print(prec_recall_f1[2])\n",
        "print('Mean weak precision:')\n",
        "print(prec_recall_f1[3]['mean precision'])\n",
        "print('Mean weak recall:')\n",
        "print(prec_recall_f1[3]['mean recall'])\n",
        "print('Mean weak f1-score:')\n",
        "print(prec_recall_f1[3]['mean f1'])"
      ],
      "execution_count": null,
      "outputs": [
        {
          "output_type": "stream",
          "name": "stdout",
          "text": [
            "Best Score:\n",
            "0.9609523809523809\n",
            "Best Params:\n",
            "{'clf__learning_rate': 0.1, 'clf__n_estimators': 100}\n",
            "Accuracy on test set:\n",
            "0.9592326139088729\n",
            "Classwise weak precision:\n",
            "{1: 0.72, 2: 2.1444444444444426, 3: 0.7405940594059411, 4: 0.5989528795811523, 5: 2.5999999999999996}\n",
            "Classwise weak recall:\n",
            "{1: 0.32727272727272727, 2: 0.5938461538461534, 3: 0.8904761904761911, 4: 0.7576158940397356, 5: 0.11818181818181817}\n",
            "Classwise weak f1-score:\n",
            "{1: 0.4499999999999999, 2: 0.9301204819277101, 3: 0.8086486486486493, 4: 0.6690058479532167, 5: 0.2260869565217391}\n",
            "Mean weak precision:\n",
            "1.3607982766863072\n",
            "Mean weak recall:\n",
            "0.5374785567633251\n",
            "Mean weak f1-score:\n",
            "0.616772387010263\n"
          ]
        }
      ]
    },
    {
      "cell_type": "code",
      "metadata": {
        "id": "iCwiY1pnrOtL",
        "colab": {
          "base_uri": "https://localhost:8080/"
        },
        "outputId": "6c2ad192-1de8-4a50-c023-5b078df4eb60"
      },
      "source": [
        "from sklearn.neural_network import MLPRegressor\n",
        "\n",
        "mlp = MLPRegressor(max_iter=1000)\n",
        "\n",
        "pipe_mlp = Pipeline([\n",
        "    ('prep_proc', pre_proc_cols),\n",
        "    ('clf', mlp)\n",
        "])\n",
        "\n",
        "mlp_params = {}\n",
        "mlp_params['clf__hidden_layer_sizes'] = [(10,10), (20,20), (20,10,10)]\n",
        "\n",
        "mlp_grid = GridSearchCV(pipe_mlp, mlp_params, cv=10, scoring=triage_score)\n",
        "mlp_grid.fit(X_train, y_train)\n",
        "\n",
        "mlp_res = pd.DataFrame(mlp_grid.cv_results_)[['param_clf__hidden_layer_sizes', 'mean_test_score']]\n",
        "mlp_res.to_csv('mlp_params_vs_score.csv')\n",
        "\n",
        "print('Best Score:')\n",
        "print(mlp_grid.best_score_)\n",
        "print('Best Params:')\n",
        "print(mlp_grid.best_params_)\n",
        "print('Accuracy on test set:')\n",
        "print(triage_score(mlp_grid, X_test, y_test))\n",
        "\n",
        "y_pred = mlp_grid.predict(X_test)\n",
        "\n",
        "prec_recall_f1 = triage_precision_recall_f1(y_test, y_pred)\n",
        "print('Classwise weak precision:')\n",
        "print(prec_recall_f1[0])\n",
        "print('Classwise weak recall:')\n",
        "print(prec_recall_f1[1])\n",
        "print('Classwise weak f1-score:')\n",
        "print(prec_recall_f1[2])\n",
        "print('Mean weak precision:')\n",
        "print(prec_recall_f1[3]['mean precision'])\n",
        "print('Mean weak recall:')\n",
        "print(prec_recall_f1[3]['mean recall'])\n",
        "print('Mean weak f1-score:')\n",
        "print(prec_recall_f1[3]['mean f1'])"
      ],
      "execution_count": null,
      "outputs": [
        {
          "output_type": "stream",
          "name": "stdout",
          "text": [
            "Best Score:\n",
            "0.9124789915966385\n",
            "Best Params:\n",
            "{'clf__hidden_layer_sizes': (20, 20)}\n",
            "Accuracy on test set:\n",
            "0.894484412470024\n",
            "Classwise weak precision:\n",
            "{1: 0.575, 2: 0.6852459016393441, 3: 0.7098765432098775, 4: 0.6309859154929582, 5: 0.16363636363636366}\n",
            "Classwise weak recall:\n",
            "{1: 0.41818181818181815, 2: 0.6430769230769229, 3: 0.6845238095238104, 4: 0.593377483443709, 5: 0.3272727272727273}\n",
            "Classwise weak f1-score:\n",
            "{1: 0.4842105263157894, 2: 0.6634920634920634, 3: 0.6969696969696978, 4: 0.6116040955631404, 5: 0.21818181818181823}\n",
            "Mean weak precision:\n",
            "0.5529489447957087\n",
            "Mean weak recall:\n",
            "0.5332865522997976\n",
            "Mean weak f1-score:\n",
            "0.5348916401045019\n"
          ]
        }
      ]
    },
    {
      "cell_type": "code",
      "metadata": {
        "id": "-VvZtOYvvLpZ"
      },
      "source": [
        ""
      ],
      "execution_count": null,
      "outputs": []
    },
    {
      "cell_type": "code",
      "metadata": {
        "id": "Dod4Ye1dvZbp"
      },
      "source": [
        ""
      ],
      "execution_count": null,
      "outputs": []
    },
    {
      "cell_type": "code",
      "metadata": {
        "id": "3zU0gnM5s7qi"
      },
      "source": [
        ""
      ],
      "execution_count": null,
      "outputs": []
    },
    {
      "cell_type": "code",
      "metadata": {
        "id": "YDNJzEisvAoN"
      },
      "source": [
        ""
      ],
      "execution_count": null,
      "outputs": []
    }
  ]
}